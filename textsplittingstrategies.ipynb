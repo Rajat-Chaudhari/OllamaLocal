{
 "cells": [
  {
   "cell_type": "markdown",
   "metadata": {},
   "source": [
    "5 Levels Of Text Splitting"
   ]
  },
  {
   "cell_type": "code",
   "execution_count": 1,
   "metadata": {},
   "outputs": [],
   "source": [
    "#https://github.com/FullStackRetrieval-com/RetrievalTutorials/blob/main/tutorials/LevelsOfTextSplitting/5_Levels_Of_Text_Splitting.ipynb"
   ]
  },
  {
   "cell_type": "code",
   "execution_count": 1,
   "metadata": {},
   "outputs": [
    {
     "name": "stderr",
     "output_type": "stream",
     "text": [
      "c:\\Users\\rachaudhari\\OneDrive - Deloitte (O365D)\\General\\pythonenvs\\.venv\\Lib\\site-packages\\tqdm\\auto.py:21: TqdmWarning: IProgress not found. Please update jupyter and ipywidgets. See https://ipywidgets.readthedocs.io/en/stable/user_install.html\n",
      "  from .autonotebook import tqdm as notebook_tqdm\n"
     ]
    }
   ],
   "source": [
    "from operator import itemgetter\n",
    "\n",
    "from langchain_community.vectorstores import FAISS\n",
    "from langchain_core.output_parsers import StrOutputParser\n",
    "#from langchain_core.prompts import ChatPromptTemplate\n",
    "from langchain.prompts import PromptTemplate\n",
    "from langchain_core.runnables import RunnableLambda, RunnablePassthrough\n",
    "\n",
    "from langchain_community.llms.huggingface_pipeline import HuggingFacePipeline\n",
    "from transformers import AutoModelForCausalLM, AutoTokenizer, pipeline\n",
    "from langchain.chains import RetrievalQA\n",
    "\n",
    "\n",
    "from langchain.document_loaders import PyPDFLoader\n",
    "from langchain.text_splitter import RecursiveCharacterTextSplitter"
   ]
  },
  {
   "cell_type": "code",
   "execution_count": null,
   "metadata": {},
   "outputs": [
    {
     "data": {
      "text/plain": [
       "{'status': 'success'}"
      ]
     },
     "execution_count": 11,
     "metadata": {},
     "output_type": "execute_result"
    }
   ],
   "source": [
    "import ollama\n",
    "# llama3=ollama.pull('llama3')\n",
    "# ollama.pull('mxbai-embed-large')"
   ]
  },
  {
   "cell_type": "code",
   "execution_count": 3,
   "metadata": {},
   "outputs": [
    {
     "data": {
      "text/plain": [
       "['../GenAI/data/twelfthphysics1/leph101.pdf',\n",
       " '../GenAI/data/twelfthphysics1/leph102.pdf',\n",
       " '../GenAI/data/twelfthphysics1/leph103.pdf',\n",
       " '../GenAI/data/twelfthphysics1/leph104.pdf',\n",
       " '../GenAI/data/twelfthphysics1/leph105.pdf',\n",
       " '../GenAI/data/twelfthphysics1/leph106.pdf',\n",
       " '../GenAI/data/twelfthphysics1/leph107.pdf',\n",
       " '../GenAI/data/twelfthphysics1/leph108.pdf',\n",
       " '../GenAI/data/twelfthphysics1/nr\\\\leph1an.pdf',\n",
       " '../GenAI/data/twelfthphysics1/nr\\\\leph1ps.pdf']"
      ]
     },
     "execution_count": 3,
     "metadata": {},
     "output_type": "execute_result"
    }
   ],
   "source": [
    "import os\n",
    "pdf_files_to_process = []\n",
    "for root, dirs, files in os.walk(\"../GenAI/data/twelfthphysics1/\"):\n",
    "    pdf_files_to_process.extend([os.path.join(root, file) for file in files if file.lower().endswith(\".pdf\")])\n",
    "\n",
    "pdf_files_to_process"
   ]
  },
  {
   "cell_type": "code",
   "execution_count": null,
   "metadata": {},
   "outputs": [
    {
     "data": {
      "text/plain": [
       "'../GenAI/data/twelfthphysics1/nr\\\\leph1an.pdf'"
      ]
     },
     "execution_count": 5,
     "metadata": {},
     "output_type": "execute_result"
    }
   ],
   "source": [
    "#pdf_files_to_process\n",
    "\n",
    "#remove unwanted files\n",
    "pdf_files_to_process.pop(-1)\n",
    "pdf_files_to_process.pop(-1)"
   ]
  },
  {
   "cell_type": "code",
   "execution_count": 6,
   "metadata": {},
   "outputs": [
    {
     "data": {
      "text/plain": [
       "['../GenAI/data/twelfthphysics1/leph101.pdf',\n",
       " '../GenAI/data/twelfthphysics1/leph102.pdf',\n",
       " '../GenAI/data/twelfthphysics1/leph103.pdf',\n",
       " '../GenAI/data/twelfthphysics1/leph104.pdf',\n",
       " '../GenAI/data/twelfthphysics1/leph105.pdf',\n",
       " '../GenAI/data/twelfthphysics1/leph106.pdf',\n",
       " '../GenAI/data/twelfthphysics1/leph107.pdf',\n",
       " '../GenAI/data/twelfthphysics1/leph108.pdf']"
      ]
     },
     "execution_count": 6,
     "metadata": {},
     "output_type": "execute_result"
    }
   ],
   "source": [
    "pdf_files_to_process"
   ]
  },
  {
   "cell_type": "code",
   "execution_count": 7,
   "metadata": {},
   "outputs": [],
   "source": [
    "batch_docs = []\n",
    "\n",
    "for files in pdf_files_to_process:\n",
    "  pdfLoader = PyPDFLoader(files)\n",
    "  documents = pdfLoader.load()\n",
    "  batch_docs.extend(documents)"
   ]
  },
  {
   "cell_type": "code",
   "execution_count": null,
   "metadata": {},
   "outputs": [],
   "source": [
    "text_splitter = RecursiveCharacterTextSplitter(chunk_size=512, chunk_overlap=100)\n",
    "docs = text_splitter.split_documents(batch_docs)"
   ]
  },
  {
   "cell_type": "code",
   "execution_count": 8,
   "metadata": {},
   "outputs": [],
   "source": [
    "from langchain_ollama import OllamaEmbeddings\n",
    "\n",
    "# llama3  # takes million years to when creating embeddings using this\n",
    "# mxbai-embed-large\n",
    "# nomic-embed-text\n",
    "embeddings = OllamaEmbeddings(\n",
    "    model=\"mxbai-embed-large\",\n",
    ")\n",
    "\n",
    "\n",
    "####################################################################################################################\n",
    "# FAISS.from_texts # for text data\n",
    "# vectorstore = FAISS.from_documents(\n",
    "#     docs, embedding=embeddings\n",
    "# )\n",
    "\n",
    "#save vector for later use\n",
    "# vectorstore.save_local(\"../GenAI/data/langchain/vectorstores/faiss/twelfthphysics1_mxbai\")\n",
    "####################################################################################################################\n",
    "\n",
    "#load vector from disk\n",
    "# loading faiss index from local storage\n",
    "vectorstore = FAISS.load_local(\"../GenAI/data/langchain/vectorstores/faiss/twelfthphysics1_mxbai\", embeddings,allow_dangerous_deserialization=True)\n",
    "\n",
    "retriever = vectorstore.as_retriever()\n",
    "\n",
    "# https://python.langchain.com/v0.1/docs/integrations/llms/ollama/\n",
    "from langchain_community.llms import Ollama\n",
    "llma = Ollama(model=\"llama3.1\")\n",
    "qa = RetrievalQA.from_chain_type(\n",
    "    llm=llma, chain_type=\"stuff\", retriever=retriever, return_source_documents=False)"
   ]
  },
  {
   "cell_type": "code",
   "execution_count": null,
   "metadata": {},
   "outputs": [],
   "source": [
    "query = \"What is DISPLACEMENT CURRENT?\"\n",
    "answer = qa({\"query\": query})"
   ]
  },
  {
   "cell_type": "code",
   "execution_count": null,
   "metadata": {},
   "outputs": [],
   "source": [
    "# model: llama3.1\n",
    "# embedding: mxbai-embed-large\n",
    "# RecursiveCharacterTextSplitter(chunk_size=512, chunk_overlap=100)\n",
    "print(\"Answer:\",answer.get('result'))"
   ]
  },
  {
   "cell_type": "markdown",
   "metadata": {},
   "source": [
    "### nomic-embed-text "
   ]
  },
  {
   "cell_type": "code",
   "execution_count": 3,
   "metadata": {},
   "outputs": [
    {
     "name": "stderr",
     "output_type": "stream",
     "text": [
      "C:\\Users\\rachaudhari\\AppData\\Local\\Temp\\ipykernel_8644\\340576167.py:19: LangChainDeprecationWarning: The class `Ollama` was deprecated in LangChain 0.3.1 and will be removed in 1.0.0. An updated version of the class exists in the :class:`~langchain-ollama package and should be used instead. To use it run `pip install -U :class:`~langchain-ollama` and import as `from :class:`~langchain_ollama import OllamaLLM``.\n",
      "  llma = Ollama(model=\"llama3.1\")\n"
     ]
    }
   ],
   "source": [
    "from langchain_ollama import OllamaEmbeddings\n",
    "\n",
    "# llama3  # takes million years to when creating embeddings using this\n",
    "# mxbai-embed-large\n",
    "# nomic-embed-text\n",
    "embeddings = OllamaEmbeddings(\n",
    "    model=\"nomic-embed-text\",\n",
    ")\n",
    "\n",
    "# load vector from disk\n",
    "\n",
    "# loading faiss index from local storage\n",
    "vectorstore = FAISS.load_local(\"../GenAI/data/langchain/vectorstores/faiss/twelfthphysics1\", embeddings,allow_dangerous_deserialization=True)\n",
    "\n",
    "retriever = vectorstore.as_retriever()\n",
    "\n",
    "# https://python.langchain.com/v0.1/docs/integrations/llms/ollama/\n",
    "from langchain_community.llms import Ollama\n",
    "llma = Ollama(model=\"llama3.1\")\n",
    "qa = RetrievalQA.from_chain_type(\n",
    "    llm=llma, chain_type=\"stuff\", retriever=retriever, return_source_documents=False)"
   ]
  },
  {
   "cell_type": "code",
   "execution_count": 9,
   "metadata": {},
   "outputs": [],
   "source": [
    "query = \"What is DISPLACEMENT CURRENT?\"\n",
    "answer = qa({\"query\": query})"
   ]
  },
  {
   "cell_type": "code",
   "execution_count": 16,
   "metadata": {},
   "outputs": [
    {
     "name": "stdout",
     "output_type": "stream",
     "text": [
      "Answer: According to the text:\n",
      "\n",
      "\"the current, given by Eq. (8.4), is a new term, and is due to changing electric field (or electric displacement, an old term still used sometimes). It is, therefore, called displacement current or Maxwell’s displacement current.\"\n"
     ]
    }
   ],
   "source": [
    "# llama3.1\n",
    "print(\"Answer:\",answer.get('result'))"
   ]
  },
  {
   "cell_type": "code",
   "execution_count": 25,
   "metadata": {},
   "outputs": [
    {
     "name": "stdout",
     "output_type": "stream",
     "text": [
      "Answer: According to the text:\n",
      "\n",
      "\"Maxwell’s displacement current. It is, therefore, called displacement current...\"\n",
      "\n",
      "Later it's also mentioned as \"The displacement current has...\".\n",
      "\n",
      "Additionally, this is described in more detail later: \n",
      "\n",
      "\"...the displacement current or Maxwell’s displacement current.\"\n",
      "\n",
      "And finally:\n",
      "\n",
      "\"The displacement current has (literally) far reaching consequences.\"\n",
      "\n",
      "So the answer from the textbook is:\n",
      "\n",
      "DISPLACEMENT CURRENT\n"
     ]
    }
   ],
   "source": [
    "# llama3.1\n",
    "print(\"Answer:\",answer.get('result'))"
   ]
  },
  {
   "cell_type": "code",
   "execution_count": 27,
   "metadata": {},
   "outputs": [
    {
     "name": "stdout",
     "output_type": "stream",
     "text": [
      "Answer: According to the provided context:\n",
      "\n",
      "DISPLACEMENT CURRENT is also known as Maxwell's displacement current. It is the current due to changing electric field (or electric displacement) and is given by Eq. (8.4). In essence, it is a new term that represents the current carried by conductors due to the flow of charges.\n"
     ]
    }
   ],
   "source": [
    "# llama3.1\n",
    "print(\"Answer:\",answer.get('result'))"
   ]
  },
  {
   "cell_type": "code",
   "execution_count": 29,
   "metadata": {},
   "outputs": [
    {
     "name": "stdout",
     "output_type": "stream",
     "text": [
      "Answer: DISPLACEMENT CURRENT, or Maxwell's displacement current, is a type of electric current due to changing electric field (or electric displacement). It has the same physical effects as conduction current. The displacement current is given by Eq. (8.4) and plays an important role in Ampere-Maxwell law.\n"
     ]
    }
   ],
   "source": [
    "# llama3.1\n",
    "print(\"Answer:\",answer.get('result'))"
   ]
  },
  {
   "cell_type": "code",
   "execution_count": null,
   "metadata": {},
   "outputs": [
    {
     "name": "stdout",
     "output_type": "stream",
     "text": [
      "Answer: According to the context, Displacement Current is a term used to describe the current due to changing electric field or electric displacement. It's also referred to as Maxwell's displacement current. In other words, it's the current that arises from changes in the electric field over time, rather than being carried by conduction currents through conductors.\n"
     ]
    }
   ],
   "source": [
    "# model: llama3.1\n",
    "# embedding: nomic-embed-text\n",
    "# RecursiveCharacterTextSplitter(chunk_size=512, chunk_overlap=100)\n",
    "print(\"Answer:\",answer.get('result'))"
   ]
  },
  {
   "cell_type": "code",
   "execution_count": null,
   "metadata": {},
   "outputs": [],
   "source": [
    "# model: llama3.1\n",
    "# embedding: mxbai-embed-large\n",
    "# RecursiveCharacterTextSplitter(chunk_size=512, chunk_overlap=100)\n",
    "print(\"Answer:\",answer.get('result'))"
   ]
  }
 ],
 "metadata": {
  "kernelspec": {
   "display_name": ".venv",
   "language": "python",
   "name": "python3"
  },
  "language_info": {
   "codemirror_mode": {
    "name": "ipython",
    "version": 3
   },
   "file_extension": ".py",
   "mimetype": "text/x-python",
   "name": "python",
   "nbconvert_exporter": "python",
   "pygments_lexer": "ipython3",
   "version": "3.12.7"
  }
 },
 "nbformat": 4,
 "nbformat_minor": 2
}
