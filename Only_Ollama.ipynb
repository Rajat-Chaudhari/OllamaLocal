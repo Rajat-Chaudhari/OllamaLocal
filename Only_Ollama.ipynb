{
 "cells": [
  {
   "cell_type": "code",
   "execution_count": null,
   "metadata": {},
   "outputs": [],
   "source": []
  },
  {
   "cell_type": "code",
   "execution_count": null,
   "metadata": {},
   "outputs": [],
   "source": []
  },
  {
   "cell_type": "code",
   "execution_count": 1,
   "metadata": {},
   "outputs": [
    {
     "name": "stderr",
     "output_type": "stream",
     "text": [
      "C:\\Users\\rachaudhari\\AppData\\Local\\Temp\\ipykernel_33136\\3060022838.py:2: LangChainDeprecationWarning: The class `Ollama` was deprecated in LangChain 0.3.1 and will be removed in 1.0.0. An updated version of the class exists in the :class:`~langchain-ollama package and should be used instead. To use it run `pip install -U :class:`~langchain-ollama` and import as `from :class:`~langchain_ollama import OllamaLLM``.\n",
      "  llma = Ollama(model=\"llama3.1\")\n"
     ]
    }
   ],
   "source": [
    "from langchain_community.llms import Ollama\n",
    "llma = Ollama(model=\"llama3.1\")"
   ]
  },
  {
   "cell_type": "code",
   "execution_count": 6,
   "metadata": {},
   "outputs": [],
   "source": [
    "response1 = llma.invoke(\"please give me what type of terrain 'snow', 'costal' or 'plain' based on the given geo co ordinates: Longitude angle: 120.626508, Latitude angle:15.843617. please format reponse as - Terrain type:<answer>\")"
   ]
  },
  {
   "cell_type": "code",
   "execution_count": 5,
   "metadata": {},
   "outputs": [
    {
     "name": "stdout",
     "output_type": "stream",
     "text": [
      "Using your provided Geo-coordinates:\n",
      "\n",
      "Longitude: 120.626508°\n",
      "Latitude: 15.843617°\n",
      "\n",
      "Here's an assessment of the terrain type based on these coordinates:\n",
      "\n",
      "- **Coastal**: These coordinates lie in a location close to, if not directly at, the coastline. The latitude places you within what would be considered coastal or near-coast areas.\n",
      "\n",
      "- **Snow**: Given the provided coordinates and assuming they are for the year 2023, there's no indication that this location experiences significant snowfall throughout the year. Snow is more typically associated with higher latitudes (north) rather than locations this far south in latitude.\n",
      "\n",
      "- **Plain**: The terrain cannot be definitively described as \"plain\" without further geographical data, like elevation or land use patterns, which aren't provided here. However, given that coastal areas often have varied elevations and land uses, it's less likely to be classified purely as a plain based on the coordinates alone.\n",
      "\n",
      "Therefore, based on the Geo-coordinates you've provided:\n",
      "\n",
      "*   **Terrain Type:** Coastal\n"
     ]
    }
   ],
   "source": [
    "print(response)"
   ]
  },
  {
   "cell_type": "code",
   "execution_count": 7,
   "metadata": {},
   "outputs": [
    {
     "name": "stdout",
     "output_type": "stream",
     "text": [
      "Based on the coordinates:\n",
      "\n",
      "Longitude: 120.626508\n",
      "Latitude: 15.843617\n",
      "\n",
      "Terrain type: Coastal\n"
     ]
    }
   ],
   "source": [
    "print(response1)"
   ]
  },
  {
   "cell_type": "code",
   "execution_count": 2,
   "metadata": {},
   "outputs": [],
   "source": [
    "response2 = llma.invoke(\"What is DISPLACEMENT CURRENT?\")"
   ]
  },
  {
   "cell_type": "code",
   "execution_count": 3,
   "metadata": {},
   "outputs": [
    {
     "data": {
      "text/plain": [
       "\"The displacement current, a term coined by Maxwell in his treatise on Electricity and Magnetism (1873), is a quantity that was added to the Ampere's law for magnetostatics. This was necessary because the original Ampere's law, in its differential form, predicted infinite values of the magnetic field when the electric field at which it depended vanished. The displacement current concept fills this gap by replacing the zero divergence of the original E-field with a non-zero value and thus saves Ampere's law from inconsistencies.\\n\\nThe displacement current is present in every capacitor and dielectric material where there are variations in the applied voltage, even if no direct conduction occurs. It represents the fact that any electric field will induce an electrically oscillating magnetic field which is proportional to the rate of change of this electric field. The direction of the magnetic field lines in a conductor or capacitor, for instance, is perpendicular to both the displacement current and the original E-field.\\n\\nThe displacement current density D can be defined as:\\n\\nJd = ε0*dE/dt\\n\\nWhere dE/dt represents the time rate of change of E-fields\""
      ]
     },
     "execution_count": 3,
     "metadata": {},
     "output_type": "execute_result"
    }
   ],
   "source": [
    "response2"
   ]
  },
  {
   "cell_type": "code",
   "execution_count": null,
   "metadata": {},
   "outputs": [],
   "source": []
  }
 ],
 "metadata": {
  "kernelspec": {
   "display_name": ".venv",
   "language": "python",
   "name": "python3"
  },
  "language_info": {
   "codemirror_mode": {
    "name": "ipython",
    "version": 3
   },
   "file_extension": ".py",
   "mimetype": "text/x-python",
   "name": "python",
   "nbconvert_exporter": "python",
   "pygments_lexer": "ipython3",
   "version": "3.12.7"
  }
 },
 "nbformat": 4,
 "nbformat_minor": 2
}
