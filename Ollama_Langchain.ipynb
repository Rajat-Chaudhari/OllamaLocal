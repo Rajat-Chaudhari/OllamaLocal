{
 "cells": [
  {
   "cell_type": "code",
   "execution_count": null,
   "metadata": {},
   "outputs": [],
   "source": []
  },
  {
   "cell_type": "code",
   "execution_count": null,
   "metadata": {},
   "outputs": [
    {
     "name": "stdout",
     "output_type": "stream",
     "text": [
      "Note: you may need to restart the kernel to use updated packages.\n"
     ]
    },
    {
     "name": "stderr",
     "output_type": "stream",
     "text": [
      "\n",
      "[notice] A new release of pip is available: 24.2 -> 24.3.1\n",
      "[notice] To update, run: python.exe -m pip install --upgrade pip\n"
     ]
    },
    {
     "name": "stdout",
     "output_type": "stream",
     "text": [
      "Note: you may need to restart the kernel to use updated packages.\n",
      "Requirement already satisfied: pypdf in c:\\users\\rachaudhari\\onedrive - deloitte (o365d)\\general\\pythonenvs\\.venv\\lib\\site-packages (4.3.1)Note: you may need to restart the kernel to use updated packages.\n",
      "\n"
     ]
    },
    {
     "name": "stderr",
     "output_type": "stream",
     "text": [
      "\n",
      "[notice] A new release of pip is available: 24.2 -> 24.3.1\n",
      "[notice] To update, run: python.exe -m pip install --upgrade pip\n"
     ]
    },
    {
     "name": "stdout",
     "output_type": "stream",
     "text": [
      "Note: you may need to restart the kernel to use updated packages.\n"
     ]
    },
    {
     "name": "stderr",
     "output_type": "stream",
     "text": [
      "\n",
      "[notice] A new release of pip is available: 24.2 -> 24.3.1\n",
      "[notice] To update, run: python.exe -m pip install --upgrade pip\n"
     ]
    }
   ],
   "source": [
    "# 1 time\n",
    "\n",
    "# for langchain classes\n",
    "%pip install --upgrade --quiet  langchain faiss-cpu tiktoken\n",
    "\n",
    "# to use models from huggingface\n",
    "%pip install --upgrade --quiet  transformers --quiet\n",
    "\n",
    "# to read pdf\n",
    "%pip install pypdf\n",
    "#%pip install pymupdf\n",
    "# required to tranform sentences for RAG\n",
    "%pip install --upgrade --quiet  langchain langchain_community sentence_transformers datasets\n",
    "\n",
    "!pip install Ollama -qU\n",
    "%pip install -qU langchain-ollama"
   ]
  },
  {
   "cell_type": "code",
   "execution_count": null,
   "metadata": {},
   "outputs": [],
   "source": [
    "from operator import itemgetter\n",
    "\n",
    "from langchain_community.vectorstores import FAISS\n",
    "from langchain_core.output_parsers import StrOutputParser\n",
    "#from langchain_core.prompts import ChatPromptTemplate\n",
    "from langchain.prompts import PromptTemplate\n",
    "from langchain_core.runnables import RunnableLambda, RunnablePassthrough\n",
    "\n",
    "from langchain_community.llms.huggingface_pipeline import HuggingFacePipeline\n",
    "from transformers import AutoModelForCausalLM, AutoTokenizer, pipeline\n",
    "from langchain.chains import RetrievalQA\n",
    "\n",
    "\n",
    "from langchain.document_loaders import PyPDFLoader\n",
    "from langchain.text_splitter import RecursiveCharacterTextSplitter"
   ]
  },
  {
   "cell_type": "code",
   "execution_count": null,
   "metadata": {},
   "outputs": [],
   "source": [
    "import ollama\n",
    "llama3=ollama.pull('llama3')\n",
    "ollama.pull('nomic-embed-text')"
   ]
  },
  {
   "cell_type": "code",
   "execution_count": null,
   "metadata": {},
   "outputs": [],
   "source": [
    "#https://python.langchain.com/docs/integrations/text_embedding/ollama/\n",
    "from langchain_ollama import OllamaEmbeddings\n",
    "\n",
    "# embeddings = OllamaEmbeddings(\n",
    "#     model=\"llama3\",\n",
    "# ) # takes million years to when creating embeddings using this\n",
    "# mxbai-embed-large\n",
    "# nomic-embed-text\n",
    "embeddings = OllamaEmbeddings(\n",
    "    model=\"nomic-embed-text\",\n",
    ")\n"
   ]
  },
  {
   "cell_type": "code",
   "execution_count": null,
   "metadata": {},
   "outputs": [],
   "source": [
    "import os\n",
    "pdf_files_to_process = []\n",
    "for root, dirs, files in os.walk(\"../GenAI/data/\"):\n",
    "    pdf_files_to_process.extend([os.path.join(root, file) for file in files if file.lower().endswith(\".pdf\")])\n",
    "\n",
    "pdf_files_to_process"
   ]
  },
  {
   "cell_type": "code",
   "execution_count": 8,
   "metadata": {},
   "outputs": [
    {
     "data": {
      "text/plain": [
       "'../GenAI/data/Twelfthphysics1\\\\nr\\\\leph1an.pdf'"
      ]
     },
     "execution_count": 8,
     "metadata": {},
     "output_type": "execute_result"
    }
   ],
   "source": [
    "#pdf_files_to_process\n",
    "\n",
    "#remove unwanted files\n",
    "pdf_files_to_process.pop(-1)"
   ]
  },
  {
   "cell_type": "code",
   "execution_count": 9,
   "metadata": {},
   "outputs": [],
   "source": [
    "batch_docs = []\n",
    "\n",
    "for files in pdf_files_to_process:\n",
    "  pdfLoader = PyPDFLoader(files)\n",
    "  documents = pdfLoader.load()\n",
    "  batch_docs.extend(documents)"
   ]
  },
  {
   "cell_type": "code",
   "execution_count": 10,
   "metadata": {},
   "outputs": [],
   "source": [
    "text_splitter = RecursiveCharacterTextSplitter(chunk_size=512, chunk_overlap=100)\n",
    "docs = text_splitter.split_documents(batch_docs)"
   ]
  },
  {
   "cell_type": "code",
   "execution_count": null,
   "metadata": {},
   "outputs": [],
   "source": [
    "from langchain.indexes import VectorstoreIndexCreator\n",
    "\n",
    "# FAISS.from_texts # for text data\n",
    "vectorstore = FAISS.from_documents(\n",
    "    docs, embedding=embeddings\n",
    ")\n",
    "\n",
    "#save vector for later use\n",
    "vectorstore.save_local(\"../GenAI/data/vectorstores/faiss/twelfthphysics1\")"
   ]
  },
  {
   "cell_type": "code",
   "execution_count": null,
   "metadata": {},
   "outputs": [],
   "source": []
  },
  {
   "cell_type": "code",
   "execution_count": null,
   "metadata": {},
   "outputs": [],
   "source": [
    "# load vector from disk\n",
    "\n",
    "# loading faiss index from local storage\n",
    "vectorstore = FAISS.load_local(\"../GenAI/data/vectorstores/faiss/twelfthphysics1\", embeddings,allow_dangerous_deserialization=True)"
   ]
  },
  {
   "cell_type": "code",
   "execution_count": 15,
   "metadata": {},
   "outputs": [],
   "source": [
    "retriever = vectorstore.as_retriever()"
   ]
  },
  {
   "cell_type": "code",
   "execution_count": 17,
   "metadata": {},
   "outputs": [],
   "source": [
    "retrieved_documents = retriever.invoke(\"What is DISPLACEMENT CURRENT?\")"
   ]
  },
  {
   "cell_type": "code",
   "execution_count": 19,
   "metadata": {},
   "outputs": [
    {
     "name": "stdout",
     "output_type": "stream",
     "text": [
      "point P outside the plates [Fig. 8.1(a)] is the same as at a point M just\n",
      "inside, as it should be. The current carried by conductors due to flow of\n",
      "charges is called conduction current . The current, given by Eq. (8.4), is a\n",
      "new term, and is due to changing electric field (or electric displacement,\n",
      "an old term still used sometimes). It is, therefore, called displacement\n",
      "current  or Maxwell’s displacement current. Figure 8.2 shows the electric\n"
     ]
    }
   ],
   "source": [
    "# show the retrieved document's content\n",
    "print(retrieved_documents[0].page_content)"
   ]
  },
  {
   "cell_type": "code",
   "execution_count": null,
   "metadata": {},
   "outputs": [],
   "source": []
  },
  {
   "cell_type": "code",
   "execution_count": null,
   "metadata": {},
   "outputs": [],
   "source": []
  },
  {
   "cell_type": "code",
   "execution_count": null,
   "metadata": {},
   "outputs": [],
   "source": [
    "# https://python.langchain.com/v0.1/docs/integrations/llms/ollama/\n",
    "from langchain_community.llms import Ollama\n",
    "llma = Ollama(model=\"llama3.1\")\n",
    "qa = RetrievalQA.from_chain_type(\n",
    "    llm=llma, chain_type=\"stuff\", retriever=retriever, return_source_documents=False)"
   ]
  },
  {
   "cell_type": "code",
   "execution_count": null,
   "metadata": {},
   "outputs": [],
   "source": []
  },
  {
   "cell_type": "code",
   "execution_count": null,
   "metadata": {},
   "outputs": [],
   "source": [
    "query = \"What is DISPLACEMENT CURRENT? give 10 points from the textbook, do not generate on your own\"\n",
    "answer = qa({\"query\": query})"
   ]
  },
  {
   "cell_type": "code",
   "execution_count": null,
   "metadata": {},
   "outputs": [
    {
     "name": "stdout",
     "output_type": "stream",
     "text": [
      "Answer: According to the given context, DISPLACEMENT CURRENT is \"a new term\" due to changing electric field (or electric displacement), also known as Maxwell's displacement current. It is a type of current that has the same physical effects as conduction current and can be present in different regions of space, including cases where there is no conduction current nearby.\n"
     ]
    }
   ],
   "source": [
    "# llama3\n",
    "print(\"Answer:\",answer.get('result'))"
   ]
  },
  {
   "cell_type": "code",
   "execution_count": 33,
   "metadata": {},
   "outputs": [
    {
     "name": "stdout",
     "output_type": "stream",
     "text": [
      "Answer: A conduction current carried by conductors due to changing electric field. It is also known as Maxwell's displacement current.\n"
     ]
    }
   ],
   "source": [
    "# llama3.1\n",
    "print(\"Answer:\",answer.get('result'))"
   ]
  },
  {
   "cell_type": "code",
   "execution_count": 34,
   "metadata": {},
   "outputs": [
    {
     "data": {
      "text/plain": [
       "{'query': 'What is DISPLACEMENT CURRENT?',\n",
       " 'result': \"A conduction current carried by conductors due to changing electric field. It is also known as Maxwell's displacement current.\"}"
      ]
     },
     "execution_count": 34,
     "metadata": {},
     "output_type": "execute_result"
    }
   ],
   "source": [
    "answer"
   ]
  },
  {
   "cell_type": "code",
   "execution_count": 36,
   "metadata": {},
   "outputs": [
    {
     "name": "stdout",
     "output_type": "stream",
     "text": [
      "Answer: Based on the provided context, here are 10 points about Displacement Current:\n",
      "\n",
      "1. The current carried by conductors due to flow of charges is called conduction current.\n",
      "2. Displacement current is a new term that was introduced by Maxwell.\n",
      "3. It is caused by changing electric field (or electric displacement).\n",
      "4. Therefore, it is also known as Maxwell’s displacement current.\n",
      "5. Displacement current has the same physical effects as the conduction current.\n",
      "6. In some cases, the displacement current may be zero since the electric field E does not change with time.\n",
      "7. Both conduction and displacement currents may be present in different regions of space.\n",
      "8. The prediction of such a displacement current can be verified experimentally.\n",
      "9. A magnetic field between the plates of a capacitor can be measured and is seen to be the same as that just outside the plates.\n",
      "10. The laws of electricity and magnetism are consistent with the presence of displacement current, which has far-reaching consequences.\n"
     ]
    }
   ],
   "source": [
    "# llama3.1\n",
    "print(\"Answer:\",answer.get('result'))"
   ]
  },
  {
   "cell_type": "code",
   "execution_count": null,
   "metadata": {},
   "outputs": [],
   "source": []
  }
 ],
 "metadata": {
  "kernelspec": {
   "display_name": ".venv",
   "language": "python",
   "name": "python3"
  },
  "language_info": {
   "codemirror_mode": {
    "name": "ipython",
    "version": 3
   },
   "file_extension": ".py",
   "mimetype": "text/x-python",
   "name": "python",
   "nbconvert_exporter": "python",
   "pygments_lexer": "ipython3",
   "version": "3.12.7"
  }
 },
 "nbformat": 4,
 "nbformat_minor": 2
}
