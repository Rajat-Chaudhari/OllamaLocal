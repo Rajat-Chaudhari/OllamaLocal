{
 "cells": [
  {
   "cell_type": "code",
   "execution_count": 1,
   "metadata": {},
   "outputs": [],
   "source": [
    "# !pip install llama-index\n",
    "# !pip install llama-index-llms-ollama\n",
    "# !pip install llama-index-llms-replicate\n",
    "\n",
    "# !pip install llama-index-embeddings-huggingface\n",
    "# %pip install llama-index-embeddings-ollama\n",
    "\n",
    "# !pip install llama-parse\n",
    "# !pip install replicate\n",
    "\n",
    "# %pip install tf-keras # for huggingfaceembedding - which needs older keras\n",
    "\n",
    "# %pip install llama-index-vector-stores-faiss"
   ]
  },
  {
   "cell_type": "code",
   "execution_count": 7,
   "metadata": {},
   "outputs": [],
   "source": [
    "# https://medium.com/@sakthiveltvt.thangaraj/introduction-to-nest-asyncio-for-python-developers-afd7bed44768\n",
    "\n",
    "import nest_asyncio\n",
    "\n",
    "nest_asyncio.apply()"
   ]
  },
  {
   "cell_type": "code",
   "execution_count": 8,
   "metadata": {},
   "outputs": [],
   "source": [
    "from llama_index.llms.ollama import Ollama\n",
    "\n",
    "llm = Ollama(model=\"llama3\")#, #request_timeout=120.0)"
   ]
  },
  {
   "cell_type": "code",
   "execution_count": 9,
   "metadata": {},
   "outputs": [
    {
     "name": "stdout",
     "output_type": "stream",
     "text": [
      "WARNING:tensorflow:From c:\\Users\\rachaudhari\\OneDrive - Deloitte (O365D)\\General\\pythonenvs\\.venv\\Lib\\site-packages\\tf_keras\\src\\losses.py:2976: The name tf.losses.sparse_softmax_cross_entropy is deprecated. Please use tf.compat.v1.losses.sparse_softmax_cross_entropy instead.\n",
      "\n"
     ]
    }
   ],
   "source": [
    "# needs older keras\n",
    "'''\n",
    "Your currently installed version of Keras is Keras 3, but this is not yet supported in Transformers. \n",
    "Please install the backwards-compatible tf-keras package with `pip install tf-keras`\n",
    "'''\n",
    "from llama_index.embeddings.huggingface import HuggingFaceEmbedding\n",
    "\n",
    "embed_model = HuggingFaceEmbedding(model_name=\"BAAI/bge-large-en-v1.5\")"
   ]
  },
  {
   "cell_type": "code",
   "execution_count": 19,
   "metadata": {},
   "outputs": [],
   "source": [
    "from llama_index.core import Settings\n",
    "\n",
    "Settings.llm = llm\n",
    "Settings.embed_model = embed_model\n",
    "\n",
    "# The default chunk size is 1024, while the default chunk overlap is 20 causes timeout on large documents\n",
    "Settings.chunk_size = 256 \n",
    "Settings.chunk_overlap = 50"
   ]
  },
  {
   "cell_type": "code",
   "execution_count": 11,
   "metadata": {},
   "outputs": [],
   "source": [
    "import faiss\n",
    "#https://huggingface.co/BAAI/bge-small-en-v1.5\n",
    "# dimensions of BAAI/bge-large-en-v1.5\n",
    "d = 1024\n",
    "faiss_index = faiss.IndexFlatL2(d)"
   ]
  },
  {
   "cell_type": "code",
   "execution_count": 12,
   "metadata": {},
   "outputs": [],
   "source": [
    "from llama_index.core import (\n",
    "    SimpleDirectoryReader,\n",
    "    load_index_from_storage,\n",
    "    VectorStoreIndex,\n",
    "    StorageContext,\n",
    ")\n",
    "from llama_index.vector_stores.faiss import FaissVectorStore\n",
    "from IPython.display import Markdown, display"
   ]
  },
  {
   "cell_type": "code",
   "execution_count": 8,
   "metadata": {},
   "outputs": [],
   "source": [
    "# # load documents\n",
    "# documents = SimpleDirectoryReader(\"../GenAI/data/Twelfthphysics1/\").load_data()\n",
    "# #documents\n",
    "\n",
    "# # https://docs.llamaindex.ai/en/stable/examples/vector_stores/FaissIndexDemo/\n",
    "# vector_store = FaissVectorStore(faiss_index=faiss_index)\n",
    "# storage_context = StorageContext.from_defaults(vector_store=vector_store)\n",
    "\n",
    "# index = VectorStoreIndex.from_documents(\n",
    "#     documents, storage_context=storage_context\n",
    "# )\n",
    "\n",
    "# save index to disk\n",
    "# index.storage_context.persist(\"../GenAI/data/llamaindex/vectorstores/faiss/twelfthphysics1/\")"
   ]
  },
  {
   "cell_type": "code",
   "execution_count": 13,
   "metadata": {},
   "outputs": [],
   "source": [
    "# load index from disk\n",
    "vector_store = FaissVectorStore.from_persist_dir(\"../GenAI/data/llamaindex/vectorstores/faiss/twelfthphysics1/\")\n",
    "\n",
    "storage_context = StorageContext.from_defaults(\n",
    "    vector_store=vector_store, persist_dir=\"../GenAI/data/llamaindex/vectorstores/faiss/twelfthphysics1/\"\n",
    ")\n",
    "\n",
    "index = load_index_from_storage(storage_context=storage_context)"
   ]
  },
  {
   "cell_type": "code",
   "execution_count": 20,
   "metadata": {},
   "outputs": [],
   "source": [
    "engine = index.as_query_engine(similarity_top_k=3)"
   ]
  },
  {
   "cell_type": "code",
   "execution_count": 11,
   "metadata": {},
   "outputs": [],
   "source": [
    "response = engine.query(\"What is DISPLACEMENT CURRENT? answer from available context, dont generate from your own\")"
   ]
  },
  {
   "cell_type": "code",
   "execution_count": 12,
   "metadata": {},
   "outputs": [
    {
     "name": "stdout",
     "output_type": "stream",
     "text": [
      "The displacement current has the same physical effects as the conduction current. In some cases, for example, steady electric fields in a conducting wire, the displacement current may be zero since the electric field E does not change with time. In other cases, for example, the charging capacitor above, both conduction and displacement currents may be present in different regions of space.\n"
     ]
    }
   ],
   "source": [
    "print(response)"
   ]
  },
  {
   "cell_type": "code",
   "execution_count": 13,
   "metadata": {},
   "outputs": [
    {
     "name": "stdout",
     "output_type": "stream",
     "text": [
      "The displacement current has the same physical effects as the conduction current. In some cases, for example, steady electric fields in a conducting wire, the displacement current may be zero since the electric field E does not change with time. In other cases, for example, the charging capacitor above, both conduction and displacement currents may be present in different regions of space.\n"
     ]
    }
   ],
   "source": [
    "print(response)"
   ]
  },
  {
   "cell_type": "code",
   "execution_count": 21,
   "metadata": {},
   "outputs": [],
   "source": [
    "def predict(prompt):\n",
    "    completion = engine.query(prompt)\n",
    "    return completion"
   ]
  },
  {
   "cell_type": "code",
   "execution_count": 1,
   "metadata": {},
   "outputs": [],
   "source": [
    "import asyncio\n",
    "import nest_asyncio\n",
    "\n",
    "nest_asyncio.apply()"
   ]
  },
  {
   "cell_type": "code",
   "execution_count": 2,
   "metadata": {},
   "outputs": [
    {
     "name": "stdout",
     "output_type": "stream",
     "text": [
      "Hi, I'm your assistant, type 'bye' to exit\n",
      "chatbot response:Sure, Let me fetch the results and present it to you.\n",
      "chatbot response:Hello, How can I assist you today ?\n",
      "chatbot response:Sorry, I didn't understand your request.\n",
      "chatbot response:Sorry, I didn't understand your request.\n",
      "Chatbot: Bye, Have a great day.\n"
     ]
    }
   ],
   "source": [
    "async def chatbot_response(user_input):\n",
    "    if 'hello' in user_input.lower():\n",
    "        return \"Hello, How can I assist you today ?\"\n",
    "    elif 'how' in user_input.lower():\n",
    "        return 'Sure, Let me fetch the results and present it to you.'\n",
    "    else:\n",
    "        return \"Sorry, I didn't understand your request.\"\n",
    "    \n",
    "async def chat():\n",
    "    print(\"Hi, I'm your assistant, type 'bye' to exit\")\n",
    "    while True:\n",
    "        user_input = input(\"You: \")\n",
    "        if user_input.lower() == \"bye\":\n",
    "            print(\"Chatbot: Bye, Have a great day.\")\n",
    "            break\n",
    "        response = await chatbot_response(user_input)\n",
    "        print(f'chatbot response:{response}')\n",
    "\n",
    "#start the chat\n",
    "asyncio.run(chat())"
   ]
  },
  {
   "cell_type": "markdown",
   "metadata": {},
   "source": [
    "# Gradio"
   ]
  },
  {
   "cell_type": "code",
   "execution_count": 3,
   "metadata": {},
   "outputs": [
    {
     "name": "stdout",
     "output_type": "stream",
     "text": [
      "Collecting gradio\n",
      "  Downloading gradio-5.7.1-py3-none-any.whl.metadata (16 kB)\n",
      "Collecting aiofiles<24.0,>=22.0 (from gradio)\n",
      "  Downloading aiofiles-23.2.1-py3-none-any.whl.metadata (9.7 kB)\n",
      "Requirement already satisfied: anyio<5.0,>=3.0 in c:\\users\\rachaudhari\\onedrive - deloitte (o365d)\\general\\pythonenvs\\.venv\\lib\\site-packages (from gradio) (4.6.2.post1)\n",
      "Collecting fastapi<1.0,>=0.115.2 (from gradio)\n",
      "  Downloading fastapi-0.115.5-py3-none-any.whl.metadata (27 kB)\n",
      "Collecting ffmpy (from gradio)\n",
      "  Downloading ffmpy-0.4.0-py3-none-any.whl.metadata (2.9 kB)\n",
      "Collecting gradio-client==1.5.0 (from gradio)\n",
      "  Downloading gradio_client-1.5.0-py3-none-any.whl.metadata (7.1 kB)\n",
      "Requirement already satisfied: httpx>=0.24.1 in c:\\users\\rachaudhari\\onedrive - deloitte (o365d)\\general\\pythonenvs\\.venv\\lib\\site-packages (from gradio) (0.27.2)\n",
      "Requirement already satisfied: huggingface-hub>=0.25.1 in c:\\users\\rachaudhari\\onedrive - deloitte (o365d)\\general\\pythonenvs\\.venv\\lib\\site-packages (from gradio) (0.26.2)\n",
      "Requirement already satisfied: jinja2<4.0 in c:\\users\\rachaudhari\\onedrive - deloitte (o365d)\\general\\pythonenvs\\.venv\\lib\\site-packages (from gradio) (3.1.4)\n",
      "Collecting markupsafe~=2.0 (from gradio)\n",
      "  Downloading MarkupSafe-2.1.5-cp312-cp312-win_amd64.whl.metadata (3.1 kB)\n",
      "Requirement already satisfied: numpy<3.0,>=1.0 in c:\\users\\rachaudhari\\onedrive - deloitte (o365d)\\general\\pythonenvs\\.venv\\lib\\site-packages (from gradio) (1.26.4)\n",
      "Requirement already satisfied: orjson~=3.0 in c:\\users\\rachaudhari\\onedrive - deloitte (o365d)\\general\\pythonenvs\\.venv\\lib\\site-packages (from gradio) (3.10.10)\n",
      "Requirement already satisfied: packaging in c:\\users\\rachaudhari\\onedrive - deloitte (o365d)\\general\\pythonenvs\\.venv\\lib\\site-packages (from gradio) (24.1)\n",
      "Requirement already satisfied: pandas<3.0,>=1.0 in c:\\users\\rachaudhari\\onedrive - deloitte (o365d)\\general\\pythonenvs\\.venv\\lib\\site-packages (from gradio) (2.2.3)\n",
      "Requirement already satisfied: pillow<12.0,>=8.0 in c:\\users\\rachaudhari\\onedrive - deloitte (o365d)\\general\\pythonenvs\\.venv\\lib\\site-packages (from gradio) (11.0.0)\n",
      "Requirement already satisfied: pydantic>=2.0 in c:\\users\\rachaudhari\\onedrive - deloitte (o365d)\\general\\pythonenvs\\.venv\\lib\\site-packages (from gradio) (2.9.2)\n",
      "Collecting pydub (from gradio)\n",
      "  Downloading pydub-0.25.1-py2.py3-none-any.whl.metadata (1.4 kB)\n",
      "Collecting python-multipart==0.0.12 (from gradio)\n",
      "  Downloading python_multipart-0.0.12-py3-none-any.whl.metadata (1.9 kB)\n",
      "Requirement already satisfied: pyyaml<7.0,>=5.0 in c:\\users\\rachaudhari\\onedrive - deloitte (o365d)\\general\\pythonenvs\\.venv\\lib\\site-packages (from gradio) (6.0.2)\n",
      "Collecting ruff>=0.2.2 (from gradio)\n",
      "  Downloading ruff-0.8.1-py3-none-win_amd64.whl.metadata (25 kB)\n",
      "Collecting safehttpx<1.0,>=0.1.1 (from gradio)\n",
      "  Downloading safehttpx-0.1.6-py3-none-any.whl.metadata (4.2 kB)\n",
      "Collecting semantic-version~=2.0 (from gradio)\n",
      "  Downloading semantic_version-2.10.0-py2.py3-none-any.whl.metadata (9.7 kB)\n",
      "Collecting starlette<1.0,>=0.40.0 (from gradio)\n",
      "  Downloading starlette-0.41.3-py3-none-any.whl.metadata (6.0 kB)\n",
      "Collecting tomlkit==0.12.0 (from gradio)\n",
      "  Downloading tomlkit-0.12.0-py3-none-any.whl.metadata (2.7 kB)\n",
      "Collecting typer<1.0,>=0.12 (from gradio)\n",
      "  Downloading typer-0.14.0-py3-none-any.whl.metadata (15 kB)\n",
      "Requirement already satisfied: typing-extensions~=4.0 in c:\\users\\rachaudhari\\onedrive - deloitte (o365d)\\general\\pythonenvs\\.venv\\lib\\site-packages (from gradio) (4.12.2)\n",
      "Collecting uvicorn>=0.14.0 (from gradio)\n",
      "  Downloading uvicorn-0.32.1-py3-none-any.whl.metadata (6.6 kB)\n",
      "Requirement already satisfied: fsspec in c:\\users\\rachaudhari\\onedrive - deloitte (o365d)\\general\\pythonenvs\\.venv\\lib\\site-packages (from gradio-client==1.5.0->gradio) (2024.9.0)\n",
      "Collecting websockets<13.0,>=10.0 (from gradio-client==1.5.0->gradio)\n",
      "  Downloading websockets-12.0-cp312-cp312-win_amd64.whl.metadata (6.8 kB)\n",
      "Requirement already satisfied: idna>=2.8 in c:\\users\\rachaudhari\\onedrive - deloitte (o365d)\\general\\pythonenvs\\.venv\\lib\\site-packages (from anyio<5.0,>=3.0->gradio) (3.10)\n",
      "Requirement already satisfied: sniffio>=1.1 in c:\\users\\rachaudhari\\onedrive - deloitte (o365d)\\general\\pythonenvs\\.venv\\lib\\site-packages (from anyio<5.0,>=3.0->gradio) (1.3.1)\n",
      "Requirement already satisfied: certifi in c:\\users\\rachaudhari\\onedrive - deloitte (o365d)\\general\\pythonenvs\\.venv\\lib\\site-packages (from httpx>=0.24.1->gradio) (2024.8.30)\n",
      "Requirement already satisfied: httpcore==1.* in c:\\users\\rachaudhari\\onedrive - deloitte (o365d)\\general\\pythonenvs\\.venv\\lib\\site-packages (from httpx>=0.24.1->gradio) (1.0.6)\n",
      "Requirement already satisfied: h11<0.15,>=0.13 in c:\\users\\rachaudhari\\onedrive - deloitte (o365d)\\general\\pythonenvs\\.venv\\lib\\site-packages (from httpcore==1.*->httpx>=0.24.1->gradio) (0.14.0)\n",
      "Requirement already satisfied: filelock in c:\\users\\rachaudhari\\onedrive - deloitte (o365d)\\general\\pythonenvs\\.venv\\lib\\site-packages (from huggingface-hub>=0.25.1->gradio) (3.16.1)\n",
      "Requirement already satisfied: requests in c:\\users\\rachaudhari\\onedrive - deloitte (o365d)\\general\\pythonenvs\\.venv\\lib\\site-packages (from huggingface-hub>=0.25.1->gradio) (2.32.3)\n",
      "Requirement already satisfied: tqdm>=4.42.1 in c:\\users\\rachaudhari\\onedrive - deloitte (o365d)\\general\\pythonenvs\\.venv\\lib\\site-packages (from huggingface-hub>=0.25.1->gradio) (4.66.5)\n",
      "Requirement already satisfied: python-dateutil>=2.8.2 in c:\\users\\rachaudhari\\onedrive - deloitte (o365d)\\general\\pythonenvs\\.venv\\lib\\site-packages (from pandas<3.0,>=1.0->gradio) (2.9.0.post0)\n",
      "Requirement already satisfied: pytz>=2020.1 in c:\\users\\rachaudhari\\onedrive - deloitte (o365d)\\general\\pythonenvs\\.venv\\lib\\site-packages (from pandas<3.0,>=1.0->gradio) (2024.2)\n",
      "Requirement already satisfied: tzdata>=2022.7 in c:\\users\\rachaudhari\\onedrive - deloitte (o365d)\\general\\pythonenvs\\.venv\\lib\\site-packages (from pandas<3.0,>=1.0->gradio) (2024.2)\n",
      "Requirement already satisfied: annotated-types>=0.6.0 in c:\\users\\rachaudhari\\onedrive - deloitte (o365d)\\general\\pythonenvs\\.venv\\lib\\site-packages (from pydantic>=2.0->gradio) (0.7.0)\n",
      "Requirement already satisfied: pydantic-core==2.23.4 in c:\\users\\rachaudhari\\onedrive - deloitte (o365d)\\general\\pythonenvs\\.venv\\lib\\site-packages (from pydantic>=2.0->gradio) (2.23.4)\n",
      "Requirement already satisfied: click>=8.0.0 in c:\\users\\rachaudhari\\onedrive - deloitte (o365d)\\general\\pythonenvs\\.venv\\lib\\site-packages (from typer<1.0,>=0.12->gradio) (8.1.7)\n",
      "Collecting shellingham>=1.3.0 (from typer<1.0,>=0.12->gradio)\n",
      "  Downloading shellingham-1.5.4-py2.py3-none-any.whl.metadata (3.5 kB)\n",
      "Requirement already satisfied: rich>=10.11.0 in c:\\users\\rachaudhari\\onedrive - deloitte (o365d)\\general\\pythonenvs\\.venv\\lib\\site-packages (from typer<1.0,>=0.12->gradio) (13.9.3)\n",
      "Requirement already satisfied: colorama in c:\\users\\rachaudhari\\onedrive - deloitte (o365d)\\general\\pythonenvs\\.venv\\lib\\site-packages (from click>=8.0.0->typer<1.0,>=0.12->gradio) (0.4.6)\n",
      "Requirement already satisfied: six>=1.5 in c:\\users\\rachaudhari\\onedrive - deloitte (o365d)\\general\\pythonenvs\\.venv\\lib\\site-packages (from python-dateutil>=2.8.2->pandas<3.0,>=1.0->gradio) (1.16.0)\n",
      "Requirement already satisfied: markdown-it-py>=2.2.0 in c:\\users\\rachaudhari\\onedrive - deloitte (o365d)\\general\\pythonenvs\\.venv\\lib\\site-packages (from rich>=10.11.0->typer<1.0,>=0.12->gradio) (3.0.0)\n",
      "Requirement already satisfied: pygments<3.0.0,>=2.13.0 in c:\\users\\rachaudhari\\onedrive - deloitte (o365d)\\general\\pythonenvs\\.venv\\lib\\site-packages (from rich>=10.11.0->typer<1.0,>=0.12->gradio) (2.18.0)\n",
      "Requirement already satisfied: charset-normalizer<4,>=2 in c:\\users\\rachaudhari\\onedrive - deloitte (o365d)\\general\\pythonenvs\\.venv\\lib\\site-packages (from requests->huggingface-hub>=0.25.1->gradio) (3.4.0)\n",
      "Requirement already satisfied: urllib3<3,>=1.21.1 in c:\\users\\rachaudhari\\onedrive - deloitte (o365d)\\general\\pythonenvs\\.venv\\lib\\site-packages (from requests->huggingface-hub>=0.25.1->gradio) (2.2.3)\n",
      "Requirement already satisfied: mdurl~=0.1 in c:\\users\\rachaudhari\\onedrive - deloitte (o365d)\\general\\pythonenvs\\.venv\\lib\\site-packages (from markdown-it-py>=2.2.0->rich>=10.11.0->typer<1.0,>=0.12->gradio) (0.1.2)\n",
      "Downloading gradio-5.7.1-py3-none-any.whl (57.1 MB)\n",
      "   ---------------------------------------- 0.0/57.1 MB ? eta -:--:--\n",
      "   - -------------------------------------- 1.6/57.1 MB 7.6 MB/s eta 0:00:08\n",
      "   --- ------------------------------------ 5.2/57.1 MB 12.3 MB/s eta 0:00:05\n",
      "   ------ --------------------------------- 8.7/57.1 MB 14.1 MB/s eta 0:00:04\n",
      "   -------- ------------------------------- 12.3/57.1 MB 15.1 MB/s eta 0:00:03\n",
      "   ----------- ---------------------------- 16.3/57.1 MB 15.8 MB/s eta 0:00:03\n",
      "   ------------- -------------------------- 19.7/57.1 MB 15.7 MB/s eta 0:00:03\n",
      "   ---------------- ----------------------- 23.3/57.1 MB 16.1 MB/s eta 0:00:03\n",
      "   ------------------- -------------------- 27.3/57.1 MB 16.3 MB/s eta 0:00:02\n",
      "   ---------------------- ----------------- 31.5/57.1 MB 16.6 MB/s eta 0:00:02\n",
      "   ---------------------- ----------------- 32.5/57.1 MB 15.4 MB/s eta 0:00:02\n",
      "   ------------------------ --------------- 34.3/57.1 MB 15.1 MB/s eta 0:00:02\n",
      "   ------------------------- -------------- 37.0/57.1 MB 14.9 MB/s eta 0:00:02\n",
      "   -------------------------- ------------- 37.7/57.1 MB 14.0 MB/s eta 0:00:02\n",
      "   --------------------------- ------------ 38.8/57.1 MB 13.3 MB/s eta 0:00:02\n",
      "   ---------------------------- ----------- 40.1/57.1 MB 13.3 MB/s eta 0:00:02\n",
      "   ----------------------------- ---------- 41.7/57.1 MB 12.6 MB/s eta 0:00:02\n",
      "   ------------------------------ --------- 43.0/57.1 MB 12.1 MB/s eta 0:00:02\n",
      "   ------------------------------ --------- 43.8/57.1 MB 11.7 MB/s eta 0:00:02\n",
      "   ------------------------------- -------- 44.8/57.1 MB 11.7 MB/s eta 0:00:02\n",
      "   -------------------------------- ------- 46.1/57.1 MB 11.3 MB/s eta 0:00:01\n",
      "   --------------------------------- ------ 47.4/57.1 MB 10.9 MB/s eta 0:00:01\n",
      "   --------------------------------- ------ 48.2/57.1 MB 10.5 MB/s eta 0:00:01\n",
      "   ---------------------------------- ----- 49.0/57.1 MB 10.5 MB/s eta 0:00:01\n",
      "   ----------------------------------- ---- 50.6/57.1 MB 10.3 MB/s eta 0:00:01\n",
      "   ------------------------------------ --- 51.9/57.1 MB 10.0 MB/s eta 0:00:01\n",
      "   ------------------------------------- -- 53.0/57.1 MB 9.8 MB/s eta 0:00:01\n",
      "   ------------------------------------- -- 53.7/57.1 MB 9.6 MB/s eta 0:00:01\n",
      "   -------------------------------------- - 55.1/57.1 MB 9.6 MB/s eta 0:00:01\n",
      "   ---------------------------------------  56.4/57.1 MB 9.4 MB/s eta 0:00:01\n",
      "   ---------------------------------------  56.9/57.1 MB 9.2 MB/s eta 0:00:01\n",
      "   ---------------------------------------- 57.1/57.1 MB 9.1 MB/s eta 0:00:00\n",
      "Downloading gradio_client-1.5.0-py3-none-any.whl (320 kB)\n",
      "Downloading python_multipart-0.0.12-py3-none-any.whl (23 kB)\n",
      "Downloading tomlkit-0.12.0-py3-none-any.whl (37 kB)\n",
      "Downloading aiofiles-23.2.1-py3-none-any.whl (15 kB)\n",
      "Downloading fastapi-0.115.5-py3-none-any.whl (94 kB)\n",
      "Downloading MarkupSafe-2.1.5-cp312-cp312-win_amd64.whl (17 kB)\n",
      "Downloading ruff-0.8.1-py3-none-win_amd64.whl (9.6 MB)\n",
      "   ---------------------------------------- 0.0/9.6 MB ? eta -:--:--\n",
      "   ---- ----------------------------------- 1.0/9.6 MB 12.7 MB/s eta 0:00:01\n",
      "   ---------- ----------------------------- 2.6/9.6 MB 7.6 MB/s eta 0:00:01\n",
      "   ------------------ --------------------- 4.5/9.6 MB 7.1 MB/s eta 0:00:01\n",
      "   ---------------------- ----------------- 5.5/9.6 MB 6.5 MB/s eta 0:00:01\n",
      "   -------------------------- ------------- 6.3/9.6 MB 5.9 MB/s eta 0:00:01\n",
      "   ------------------------------- -------- 7.6/9.6 MB 6.5 MB/s eta 0:00:01\n",
      "   ----------------------------------- ---- 8.7/9.6 MB 6.0 MB/s eta 0:00:01\n",
      "   -------------------------------------- - 9.2/9.6 MB 5.5 MB/s eta 0:00:01\n",
      "   ---------------------------------------- 9.6/9.6 MB 5.5 MB/s eta 0:00:00\n",
      "Downloading safehttpx-0.1.6-py3-none-any.whl (8.7 kB)\n",
      "Downloading semantic_version-2.10.0-py2.py3-none-any.whl (15 kB)\n",
      "Downloading starlette-0.41.3-py3-none-any.whl (73 kB)\n",
      "Downloading typer-0.14.0-py3-none-any.whl (44 kB)\n",
      "Downloading uvicorn-0.32.1-py3-none-any.whl (63 kB)\n",
      "Downloading ffmpy-0.4.0-py3-none-any.whl (5.8 kB)\n",
      "Downloading pydub-0.25.1-py2.py3-none-any.whl (32 kB)\n",
      "Downloading shellingham-1.5.4-py2.py3-none-any.whl (9.8 kB)\n",
      "Downloading websockets-12.0-cp312-cp312-win_amd64.whl (124 kB)\n",
      "Installing collected packages: pydub, websockets, tomlkit, shellingham, semantic-version, ruff, python-multipart, markupsafe, ffmpy, aiofiles, uvicorn, starlette, typer, safehttpx, gradio-client, fastapi, gradio\n",
      "  Attempting uninstall: markupsafe\n",
      "    Found existing installation: MarkupSafe 3.0.2\n",
      "    Uninstalling MarkupSafe-3.0.2:\n",
      "      Successfully uninstalled MarkupSafe-3.0.2\n",
      "Successfully installed aiofiles-23.2.1 fastapi-0.115.5 ffmpy-0.4.0 gradio-5.7.1 gradio-client-1.5.0 markupsafe-2.1.5 pydub-0.25.1 python-multipart-0.0.12 ruff-0.8.1 safehttpx-0.1.6 semantic-version-2.10.0 shellingham-1.5.4 starlette-0.41.3 tomlkit-0.12.0 typer-0.14.0 uvicorn-0.32.1 websockets-12.0\n",
      "Note: you may need to restart the kernel to use updated packages.\n"
     ]
    },
    {
     "name": "stderr",
     "output_type": "stream",
     "text": [
      "\n",
      "[notice] A new release of pip is available: 24.2 -> 24.3.1\n",
      "[notice] To update, run: python.exe -m pip install --upgrade pip\n"
     ]
    }
   ],
   "source": [
    "%pip install gradio"
   ]
  },
  {
   "cell_type": "code",
   "execution_count": 23,
   "metadata": {},
   "outputs": [
    {
     "name": "stdout",
     "output_type": "stream",
     "text": [
      "* Running on local URL:  http://127.0.0.1:7864\n",
      "\n",
      "To create a public link, set `share=True` in `launch()`.\n"
     ]
    },
    {
     "data": {
      "text/html": [
       "<div><iframe src=\"http://127.0.0.1:7864/\" width=\"100%\" height=\"500\" allow=\"autoplay; camera; microphone; clipboard-read; clipboard-write;\" frameborder=\"0\" allowfullscreen></iframe></div>"
      ],
      "text/plain": [
       "<IPython.core.display.HTML object>"
      ]
     },
     "metadata": {},
     "output_type": "display_data"
    },
    {
     "data": {
      "text/plain": []
     },
     "execution_count": 23,
     "metadata": {},
     "output_type": "execute_result"
    },
    {
     "name": "stderr",
     "output_type": "stream",
     "text": [
      "Traceback (most recent call last):\n",
      "  File \"c:\\Users\\rachaudhari\\OneDrive - Deloitte (O365D)\\General\\pythonenvs\\.venv\\Lib\\site-packages\\httpx\\_transports\\default.py\", line 72, in map_httpcore_exceptions\n",
      "    yield\n",
      "  File \"c:\\Users\\rachaudhari\\OneDrive - Deloitte (O365D)\\General\\pythonenvs\\.venv\\Lib\\site-packages\\httpx\\_transports\\default.py\", line 236, in handle_request\n",
      "    resp = self._pool.handle_request(req)\n",
      "           ^^^^^^^^^^^^^^^^^^^^^^^^^^^^^^\n",
      "  File \"c:\\Users\\rachaudhari\\OneDrive - Deloitte (O365D)\\General\\pythonenvs\\.venv\\Lib\\site-packages\\httpcore\\_sync\\connection_pool.py\", line 216, in handle_request\n",
      "    raise exc from None\n",
      "  File \"c:\\Users\\rachaudhari\\OneDrive - Deloitte (O365D)\\General\\pythonenvs\\.venv\\Lib\\site-packages\\httpcore\\_sync\\connection_pool.py\", line 196, in handle_request\n",
      "    response = connection.handle_request(\n",
      "               ^^^^^^^^^^^^^^^^^^^^^^^^^^\n",
      "  File \"c:\\Users\\rachaudhari\\OneDrive - Deloitte (O365D)\\General\\pythonenvs\\.venv\\Lib\\site-packages\\httpcore\\_sync\\connection.py\", line 101, in handle_request\n",
      "    return self._connection.handle_request(request)\n",
      "           ^^^^^^^^^^^^^^^^^^^^^^^^^^^^^^^^^^^^^^^^\n",
      "  File \"c:\\Users\\rachaudhari\\OneDrive - Deloitte (O365D)\\General\\pythonenvs\\.venv\\Lib\\site-packages\\httpcore\\_sync\\http11.py\", line 143, in handle_request\n",
      "    raise exc\n",
      "  File \"c:\\Users\\rachaudhari\\OneDrive - Deloitte (O365D)\\General\\pythonenvs\\.venv\\Lib\\site-packages\\httpcore\\_sync\\http11.py\", line 113, in handle_request\n",
      "    ) = self._receive_response_headers(**kwargs)\n",
      "        ^^^^^^^^^^^^^^^^^^^^^^^^^^^^^^^^^^^^^^^^\n",
      "  File \"c:\\Users\\rachaudhari\\OneDrive - Deloitte (O365D)\\General\\pythonenvs\\.venv\\Lib\\site-packages\\httpcore\\_sync\\http11.py\", line 186, in _receive_response_headers\n",
      "    event = self._receive_event(timeout=timeout)\n",
      "            ^^^^^^^^^^^^^^^^^^^^^^^^^^^^^^^^^^^^\n",
      "  File \"c:\\Users\\rachaudhari\\OneDrive - Deloitte (O365D)\\General\\pythonenvs\\.venv\\Lib\\site-packages\\httpcore\\_sync\\http11.py\", line 224, in _receive_event\n",
      "    data = self._network_stream.read(\n",
      "           ^^^^^^^^^^^^^^^^^^^^^^^^^^\n",
      "  File \"c:\\Users\\rachaudhari\\OneDrive - Deloitte (O365D)\\General\\pythonenvs\\.venv\\Lib\\site-packages\\httpcore\\_backends\\sync.py\", line 124, in read\n",
      "    with map_exceptions(exc_map):\n",
      "         ^^^^^^^^^^^^^^^^^^^^^^^\n",
      "  File \"C:\\Users\\rachaudhari\\AppData\\Local\\Programs\\Python\\Python312\\Lib\\contextlib.py\", line 158, in __exit__\n",
      "    self.gen.throw(value)\n",
      "  File \"c:\\Users\\rachaudhari\\OneDrive - Deloitte (O365D)\\General\\pythonenvs\\.venv\\Lib\\site-packages\\httpcore\\_exceptions.py\", line 14, in map_exceptions\n",
      "    raise to_exc(exc) from exc\n",
      "httpcore.ReadTimeout: timed out\n",
      "\n",
      "The above exception was the direct cause of the following exception:\n",
      "\n",
      "Traceback (most recent call last):\n",
      "  File \"c:\\Users\\rachaudhari\\OneDrive - Deloitte (O365D)\\General\\pythonenvs\\.venv\\Lib\\site-packages\\gradio\\queueing.py\", line 624, in process_events\n",
      "    response = await route_utils.call_process_api(\n",
      "               ^^^^^^^^^^^^^^^^^^^^^^^^^^^^^^^^^^^\n",
      "  File \"c:\\Users\\rachaudhari\\OneDrive - Deloitte (O365D)\\General\\pythonenvs\\.venv\\Lib\\site-packages\\gradio\\route_utils.py\", line 323, in call_process_api\n",
      "    output = await app.get_blocks().process_api(\n",
      "             ^^^^^^^^^^^^^^^^^^^^^^^^^^^^^^^^^^^\n",
      "  File \"c:\\Users\\rachaudhari\\OneDrive - Deloitte (O365D)\\General\\pythonenvs\\.venv\\Lib\\site-packages\\gradio\\blocks.py\", line 2019, in process_api\n",
      "    result = await self.call_function(\n",
      "             ^^^^^^^^^^^^^^^^^^^^^^^^^\n",
      "  File \"c:\\Users\\rachaudhari\\OneDrive - Deloitte (O365D)\\General\\pythonenvs\\.venv\\Lib\\site-packages\\gradio\\blocks.py\", line 1566, in call_function\n",
      "    prediction = await anyio.to_thread.run_sync(  # type: ignore\n",
      "                 ^^^^^^^^^^^^^^^^^^^^^^^^^^^^^^^^^^^^^^^^^^^^^^^\n",
      "  File \"c:\\Users\\rachaudhari\\OneDrive - Deloitte (O365D)\\General\\pythonenvs\\.venv\\Lib\\site-packages\\anyio\\to_thread.py\", line 56, in run_sync\n",
      "    return await get_async_backend().run_sync_in_worker_thread(\n",
      "           ^^^^^^^^^^^^^^^^^^^^^^^^^^^^^^^^^^^^^^^^^^^^^^^^^^^^\n",
      "  File \"c:\\Users\\rachaudhari\\OneDrive - Deloitte (O365D)\\General\\pythonenvs\\.venv\\Lib\\site-packages\\anyio\\_backends\\_asyncio.py\", line 2441, in run_sync_in_worker_thread\n",
      "    return await future\n",
      "           ^^^^^^^^^^^^\n",
      "  File \"C:\\Users\\rachaudhari\\AppData\\Local\\Programs\\Python\\Python312\\Lib\\asyncio\\futures.py\", line 291, in __await__\n",
      "    yield self  # This tells Task to wait for completion.\n",
      "    ^^^^^^^^^^\n",
      "  File \"C:\\Users\\rachaudhari\\AppData\\Local\\Programs\\Python\\Python312\\Lib\\asyncio\\tasks.py\", line 385, in __wakeup\n",
      "    future.result()\n",
      "  File \"C:\\Users\\rachaudhari\\AppData\\Local\\Programs\\Python\\Python312\\Lib\\asyncio\\futures.py\", line 203, in result\n",
      "    raise self._exception.with_traceback(self._exception_tb)\n",
      "  File \"c:\\Users\\rachaudhari\\OneDrive - Deloitte (O365D)\\General\\pythonenvs\\.venv\\Lib\\site-packages\\anyio\\_backends\\_asyncio.py\", line 943, in run\n",
      "    result = context.run(func, *args)\n",
      "             ^^^^^^^^^^^^^^^^^^^^^^^^\n",
      "  File \"c:\\Users\\rachaudhari\\OneDrive - Deloitte (O365D)\\General\\pythonenvs\\.venv\\Lib\\site-packages\\gradio\\utils.py\", line 865, in wrapper\n",
      "    response = f(*args, **kwargs)\n",
      "               ^^^^^^^^^^^^^^^^^^\n",
      "  File \"C:\\Users\\rachaudhari\\AppData\\Local\\Temp\\ipykernel_1096\\720373511.py\", line 2, in predict\n",
      "    completion = engine.query(prompt)\n",
      "                 ^^^^^^^^^^^^^^^^^^^^\n",
      "  File \"c:\\Users\\rachaudhari\\OneDrive - Deloitte (O365D)\\General\\pythonenvs\\.venv\\Lib\\site-packages\\llama_index\\core\\instrumentation\\dispatcher.py\", line 311, in wrapper\n",
      "    result = func(*args, **kwargs)\n",
      "             ^^^^^^^^^^^^^^^^^^^^^\n",
      "  File \"c:\\Users\\rachaudhari\\OneDrive - Deloitte (O365D)\\General\\pythonenvs\\.venv\\Lib\\site-packages\\llama_index\\core\\base\\base_query_engine.py\", line 52, in query\n",
      "    query_result = self._query(str_or_query_bundle)\n",
      "                   ^^^^^^^^^^^^^^^^^^^^^^^^^^^^^^^^\n",
      "  File \"c:\\Users\\rachaudhari\\OneDrive - Deloitte (O365D)\\General\\pythonenvs\\.venv\\Lib\\site-packages\\llama_index\\core\\instrumentation\\dispatcher.py\", line 311, in wrapper\n",
      "    result = func(*args, **kwargs)\n",
      "             ^^^^^^^^^^^^^^^^^^^^^\n",
      "  File \"c:\\Users\\rachaudhari\\OneDrive - Deloitte (O365D)\\General\\pythonenvs\\.venv\\Lib\\site-packages\\llama_index\\core\\query_engine\\retriever_query_engine.py\", line 179, in _query\n",
      "    response = self._response_synthesizer.synthesize(\n",
      "               ^^^^^^^^^^^^^^^^^^^^^^^^^^^^^^^^^^^^^^\n",
      "  File \"c:\\Users\\rachaudhari\\OneDrive - Deloitte (O365D)\\General\\pythonenvs\\.venv\\Lib\\site-packages\\llama_index\\core\\instrumentation\\dispatcher.py\", line 311, in wrapper\n",
      "    result = func(*args, **kwargs)\n",
      "             ^^^^^^^^^^^^^^^^^^^^^\n",
      "  File \"c:\\Users\\rachaudhari\\OneDrive - Deloitte (O365D)\\General\\pythonenvs\\.venv\\Lib\\site-packages\\llama_index\\core\\response_synthesizers\\base.py\", line 241, in synthesize\n",
      "    response_str = self.get_response(\n",
      "                   ^^^^^^^^^^^^^^^^^^\n",
      "  File \"c:\\Users\\rachaudhari\\OneDrive - Deloitte (O365D)\\General\\pythonenvs\\.venv\\Lib\\site-packages\\llama_index\\core\\instrumentation\\dispatcher.py\", line 311, in wrapper\n",
      "    result = func(*args, **kwargs)\n",
      "             ^^^^^^^^^^^^^^^^^^^^^\n",
      "  File \"c:\\Users\\rachaudhari\\OneDrive - Deloitte (O365D)\\General\\pythonenvs\\.venv\\Lib\\site-packages\\llama_index\\core\\response_synthesizers\\compact_and_refine.py\", line 43, in get_response\n",
      "    return super().get_response(\n",
      "           ^^^^^^^^^^^^^^^^^^^^^\n",
      "  File \"c:\\Users\\rachaudhari\\OneDrive - Deloitte (O365D)\\General\\pythonenvs\\.venv\\Lib\\site-packages\\llama_index\\core\\instrumentation\\dispatcher.py\", line 311, in wrapper\n",
      "    result = func(*args, **kwargs)\n",
      "             ^^^^^^^^^^^^^^^^^^^^^\n",
      "  File \"c:\\Users\\rachaudhari\\OneDrive - Deloitte (O365D)\\General\\pythonenvs\\.venv\\Lib\\site-packages\\llama_index\\core\\response_synthesizers\\refine.py\", line 179, in get_response\n",
      "    response = self._give_response_single(\n",
      "               ^^^^^^^^^^^^^^^^^^^^^^^^^^^\n",
      "  File \"c:\\Users\\rachaudhari\\OneDrive - Deloitte (O365D)\\General\\pythonenvs\\.venv\\Lib\\site-packages\\llama_index\\core\\response_synthesizers\\refine.py\", line 241, in _give_response_single\n",
      "    program(\n",
      "  File \"c:\\Users\\rachaudhari\\OneDrive - Deloitte (O365D)\\General\\pythonenvs\\.venv\\Lib\\site-packages\\llama_index\\core\\instrumentation\\dispatcher.py\", line 311, in wrapper\n",
      "    result = func(*args, **kwargs)\n",
      "             ^^^^^^^^^^^^^^^^^^^^^\n",
      "  File \"c:\\Users\\rachaudhari\\OneDrive - Deloitte (O365D)\\General\\pythonenvs\\.venv\\Lib\\site-packages\\llama_index\\core\\response_synthesizers\\refine.py\", line 85, in __call__\n",
      "    answer = self._llm.predict(\n",
      "             ^^^^^^^^^^^^^^^^^^\n",
      "  File \"c:\\Users\\rachaudhari\\OneDrive - Deloitte (O365D)\\General\\pythonenvs\\.venv\\Lib\\site-packages\\llama_index\\core\\instrumentation\\dispatcher.py\", line 311, in wrapper\n",
      "    result = func(*args, **kwargs)\n",
      "             ^^^^^^^^^^^^^^^^^^^^^\n",
      "  File \"c:\\Users\\rachaudhari\\OneDrive - Deloitte (O365D)\\General\\pythonenvs\\.venv\\Lib\\site-packages\\llama_index\\core\\llms\\llm.py\", line 596, in predict\n",
      "    chat_response = self.chat(messages)\n",
      "                    ^^^^^^^^^^^^^^^^^^^\n",
      "  File \"c:\\Users\\rachaudhari\\OneDrive - Deloitte (O365D)\\General\\pythonenvs\\.venv\\Lib\\site-packages\\llama_index\\core\\instrumentation\\dispatcher.py\", line 311, in wrapper\n",
      "    result = func(*args, **kwargs)\n",
      "             ^^^^^^^^^^^^^^^^^^^^^\n",
      "  File \"c:\\Users\\rachaudhari\\OneDrive - Deloitte (O365D)\\General\\pythonenvs\\.venv\\Lib\\site-packages\\llama_index\\core\\llms\\callbacks.py\", line 173, in wrapped_llm_chat\n",
      "    f_return_val = f(_self, messages, **kwargs)\n",
      "                   ^^^^^^^^^^^^^^^^^^^^^^^^^^^^\n",
      "  File \"c:\\Users\\rachaudhari\\OneDrive - Deloitte (O365D)\\General\\pythonenvs\\.venv\\Lib\\site-packages\\llama_index\\llms\\ollama\\base.py\", line 286, in chat\n",
      "    response = self.client.chat(\n",
      "               ^^^^^^^^^^^^^^^^^\n",
      "  File \"c:\\Users\\rachaudhari\\OneDrive - Deloitte (O365D)\\General\\pythonenvs\\.venv\\Lib\\site-packages\\ollama\\_client.py\", line 236, in chat\n",
      "    return self._request_stream(\n",
      "           ^^^^^^^^^^^^^^^^^^^^^\n",
      "  File \"c:\\Users\\rachaudhari\\OneDrive - Deloitte (O365D)\\General\\pythonenvs\\.venv\\Lib\\site-packages\\ollama\\_client.py\", line 99, in _request_stream\n",
      "    return self._stream(*args, **kwargs) if stream else self._request(*args, **kwargs).json()\n",
      "                                                        ^^^^^^^^^^^^^^^^^^^^^^^^^^^^^^\n",
      "  File \"c:\\Users\\rachaudhari\\OneDrive - Deloitte (O365D)\\General\\pythonenvs\\.venv\\Lib\\site-packages\\ollama\\_client.py\", line 70, in _request\n",
      "    response = self._client.request(method, url, **kwargs)\n",
      "               ^^^^^^^^^^^^^^^^^^^^^^^^^^^^^^^^^^^^^^^^^^^\n",
      "  File \"c:\\Users\\rachaudhari\\OneDrive - Deloitte (O365D)\\General\\pythonenvs\\.venv\\Lib\\site-packages\\httpx\\_client.py\", line 837, in request\n",
      "    return self.send(request, auth=auth, follow_redirects=follow_redirects)\n",
      "           ^^^^^^^^^^^^^^^^^^^^^^^^^^^^^^^^^^^^^^^^^^^^^^^^^^^^^^^^^^^^^^^^\n",
      "  File \"c:\\Users\\rachaudhari\\OneDrive - Deloitte (O365D)\\General\\pythonenvs\\.venv\\Lib\\site-packages\\httpx\\_client.py\", line 926, in send\n",
      "    response = self._send_handling_auth(\n",
      "               ^^^^^^^^^^^^^^^^^^^^^^^^^\n",
      "  File \"c:\\Users\\rachaudhari\\OneDrive - Deloitte (O365D)\\General\\pythonenvs\\.venv\\Lib\\site-packages\\httpx\\_client.py\", line 954, in _send_handling_auth\n",
      "    response = self._send_handling_redirects(\n",
      "               ^^^^^^^^^^^^^^^^^^^^^^^^^^^^^^\n",
      "  File \"c:\\Users\\rachaudhari\\OneDrive - Deloitte (O365D)\\General\\pythonenvs\\.venv\\Lib\\site-packages\\httpx\\_client.py\", line 991, in _send_handling_redirects\n",
      "    response = self._send_single_request(request)\n",
      "               ^^^^^^^^^^^^^^^^^^^^^^^^^^^^^^^^^^\n",
      "  File \"c:\\Users\\rachaudhari\\OneDrive - Deloitte (O365D)\\General\\pythonenvs\\.venv\\Lib\\site-packages\\httpx\\_client.py\", line 1027, in _send_single_request\n",
      "    response = transport.handle_request(request)\n",
      "               ^^^^^^^^^^^^^^^^^^^^^^^^^^^^^^^^^\n",
      "  File \"c:\\Users\\rachaudhari\\OneDrive - Deloitte (O365D)\\General\\pythonenvs\\.venv\\Lib\\site-packages\\httpx\\_transports\\default.py\", line 235, in handle_request\n",
      "    with map_httpcore_exceptions():\n",
      "         ^^^^^^^^^^^^^^^^^^^^^^^^^\n",
      "  File \"C:\\Users\\rachaudhari\\AppData\\Local\\Programs\\Python\\Python312\\Lib\\contextlib.py\", line 158, in __exit__\n",
      "    self.gen.throw(value)\n",
      "  File \"c:\\Users\\rachaudhari\\OneDrive - Deloitte (O365D)\\General\\pythonenvs\\.venv\\Lib\\site-packages\\httpx\\_transports\\default.py\", line 89, in map_httpcore_exceptions\n",
      "    raise mapped_exc(message) from exc\n",
      "httpx.ReadTimeout: timed out\n"
     ]
    }
   ],
   "source": [
    "import gradio as gr\n",
    "\n",
    "\n",
    "def greet(game):\n",
    "    return \"Hello \" + game\n",
    "\n",
    "p=\"What is DISPLACEMENT CURRENT? answer from available context, dont generate from your own\"\n",
    "demo = gr.Interface(fn=predict, inputs=\"text\", outputs=\"text\")\n",
    "\n",
    "demo.launch()"
   ]
  },
  {
   "cell_type": "code",
   "execution_count": null,
   "metadata": {},
   "outputs": [],
   "source": []
  }
 ],
 "metadata": {
  "kernelspec": {
   "display_name": ".venv",
   "language": "python",
   "name": "python3"
  },
  "language_info": {
   "codemirror_mode": {
    "name": "ipython",
    "version": 3
   },
   "file_extension": ".py",
   "mimetype": "text/x-python",
   "name": "python",
   "nbconvert_exporter": "python",
   "pygments_lexer": "ipython3",
   "version": "3.12.7"
  }
 },
 "nbformat": 4,
 "nbformat_minor": 2
}
